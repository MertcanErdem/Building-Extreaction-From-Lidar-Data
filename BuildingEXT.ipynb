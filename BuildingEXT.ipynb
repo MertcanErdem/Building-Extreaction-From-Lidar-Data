{
 "cells": [
  {
   "cell_type": "code",
   "execution_count": 23,
   "id": "8b88bc58-99a8-4795-96d8-3dc62e3cad95",
   "metadata": {},
   "outputs": [
    {
     "name": "stdout",
     "output_type": "stream",
     "text": [
      "Enter the epsg for your laz file:\n"
     ]
    },
    {
     "name": "stdin",
     "output_type": "stream",
     "text": [
      " 8734\n"
     ]
    },
    {
     "name": "stdout",
     "output_type": "stream",
     "text": [
      "sucsess\n"
     ]
    }
   ],
   "source": [
    "import laspy\n",
    "import numpy as np\n",
    "from scipy.interpolate import griddata\n",
    "import rasterio\n",
    "import pyproj\n",
    "import cv2\n",
    "\n",
    "# Read in the LAS file using laspy\n",
    "\n",
    "las_file2 = laspy.read('USGS_LPC_IL_HicksDome_FluorsparDistrict_2019_D19_2339_5650.laz')\n",
    "# Set the CRS information to projection\n",
    "las_file2.header.scale[0] = 0.01\n",
    "las_file2.header.scale[1] = 0.01\n",
    "las_file2.header.scale[2] = 0.001\n",
    "las_file2.write(\"updated_file.las\")\n",
    "las_file2 = laspy.read('updated_file.las')\n",
    "\n",
    "\n",
    "\n",
    "# Define the CRS for the output raster\n",
    "print('Enter the epsg for your laz file:')\n",
    "crs = pyproj.CRS.from_epsg(input())  \n",
    "\n",
    "# Extract the x, y, and z coordinates from the LAS file\n",
    "x = las_file2.x\n",
    "y = las_file2.y\n",
    "z = las_file2.z\n",
    "\n",
    "# Define the resolution of the DEM\n",
    "resolution = 1\n",
    "\n",
    "# Calculate the grid bounds based on the x and y coordinates\n",
    "x_min = np.floor(min(x))\n",
    "x_max = np.ceil(max(x))\n",
    "y_min = np.floor(min(y))\n",
    "y_max = np.ceil(max(y))\n",
    "\n",
    "# Generate the grid of points for the DEM\n",
    "grid_x, grid_y = np.meshgrid(np.arange(x_min, x_max , resolution), \n",
    "                             np.arange(y_min, y_max , resolution))\n",
    "\n",
    "# Generate the DEM using linear interpolation of the point cloud\n",
    "dem = griddata((x, y), z, (grid_x, grid_y), method='nearest')\n",
    "\n",
    "\n",
    "# Save the DEM to a GeoTIFF file using rasterio\n",
    "with rasterio.open(\n",
    "        'dsm.tif',\n",
    "        'w',\n",
    "        driver='GTiff',\n",
    "        height=dem.shape[0],\n",
    "        width=dem.shape[1],\n",
    "        count=1,\n",
    "        dtype=dem.dtype,\n",
    "        crs=crs,\n",
    "        transform=rasterio.transform.Affine(resolution, 0, x_min, 0, resolution, y_min)) as dst:\n",
    "    dst.write(dem, 1)\n",
    "print('Success')"
   ]
  },
  {
   "cell_type": "code",
   "execution_count": 24,
   "id": "fe003f61-9916-466b-815d-fa646e4fffbc",
   "metadata": {},
   "outputs": [],
   "source": [
    "from rasterio.transform import from_origin\n",
    "from scipy.interpolate import griddata\n",
    "import scipy\n",
    "\n",
    "\n",
    "# Load LiDAR data\n",
    "las_file = laspy.read('updated_file.las')\n",
    "points = np.vstack((las_file.x, las_file.y, las_file.z)).T\n",
    "\n",
    "# Classify ground points\n",
    "ground_points = points[las_file.classification == 2]\n",
    "\n",
    "# Define the resolution of the output DTM\n",
    "resolution = 1\n",
    "\n",
    "# Determine the bounds of the point cloud\n",
    "min_x, max_x = np.min(points[:,0]), np.max(points[:,0])\n",
    "min_y, max_y = np.min(points[:,1]), np.max(points[:,1])\n",
    "\n",
    "# Calculate the size of the output raster\n",
    "width = int(np.ceil((max_x - min_x) / resolution))\n",
    "height = int(np.ceil((max_y - min_y) / resolution))\n",
    "\n",
    "# Create the output raster profile\n",
    "profile = {\n",
    "    'driver': 'GTiff',\n",
    "    'height': height,\n",
    "    'width': width,\n",
    "    'count': 1,\n",
    "    'dtype': 'float32',\n",
    "    'crs': crs,\n",
    "    'transform': from_origin(min_x, min_y, resolution, -resolution)\n",
    "}\n",
    "\n",
    "# Create an empty numpy array for the output DTM\n",
    "dtm = np.zeros((height, width), dtype=np.float32)\n",
    "counts = np.zeros((height, width), dtype=np.int32)\n",
    "\n",
    "# Create a KDTree from the x, y coordinates of the ground points\n",
    "tree = scipy.spatial.cKDTree(ground_points[:, :2])\n",
    "\n",
    "# Create a mesh grid for the output raster\n",
    "mesh_x, mesh_y = np.meshgrid(np.arange(min_x, max_x, resolution), np.arange(min_y, max_y, resolution))\n",
    "\n",
    "# Interpolate the z values of the ground points onto the mesh grid\n",
    "values = tree.query(np.vstack((mesh_x.ravel(), mesh_y.ravel())).T)[0]\n",
    "mesh_z = values.reshape(mesh_x.shape)\n",
    "\n",
    "\n",
    "# Load the DSM\n",
    "dsm_file = laspy.read('updated_file.las')\n",
    "dsm_points = np.vstack((dsm_file.x, dsm_file.y, dsm_file.z)).T\n",
    "\n",
    "# Classify points as aboveground features (non-ground points)\n",
    "non_ground_points = dsm_points[dsm_file.classification != 2]\n",
    "\n",
    "# Interpolate the non-ground points onto the mesh grid\n",
    "non_ground_z = griddata(non_ground_points[:, :2], non_ground_points[:, 2], (mesh_x, mesh_y), method='linear')\n",
    "\n",
    "# Subtract the interpolated non-ground values from the interpolated ground values\n",
    "dtm = mesh_z - non_ground_z\n",
    "\n",
    "# Write the output raster to a file\n",
    "with rasterio.open('dtm.tif', 'w', **profile) as dst:\n",
    "    dst.write(dtm, 1)"
   ]
  },
  {
   "cell_type": "code",
   "execution_count": 25,
   "id": "f8a581af-34f3-4cf1-8fb2-1f9f2924b015",
   "metadata": {},
   "outputs": [],
   "source": [
    "# Load DSM and DTM\n",
    "with rasterio.open('dsm.tif') as src:\n",
    "    dsm = src.read(1)\n",
    "    dsm_meta = src.profile\n",
    "\n",
    "with rasterio.open('dtm.tif') as src:\n",
    "    dtm = src.read(1)\n",
    "\n",
    "# Compute NDHM\n",
    "ndhm = dsm - dtm\n",
    "\n",
    "# Write NDHM to file\n",
    "ndhm_meta = dsm_meta.copy()\n",
    "ndhm_meta['dtype'] = 'float32'\n",
    "with rasterio.open('ndhm.tif', 'w', **ndhm_meta) as dst:\n",
    "    dst.write(ndhm.astype(np.float32), 1)"
   ]
  },
  {
   "cell_type": "code",
   "execution_count": 28,
   "id": "014467ed-7197-4187-8482-4884bb3b5bc3",
   "metadata": {},
   "outputs": [],
   "source": [
    "from rasterio.plot import show\n",
    "from rasterio.mask import mask\n",
    "import cv2\n",
    "\n",
    "# Open the NDHM image\n",
    "with rasterio.open('ndhm.tif') as src:\n",
    "    ndhm_img = src.read(1)\n",
    "    profile = src.profile.copy()\n",
    "\n",
    "# Threshold the NDHM image to separate the buildings\n",
    "# Convert the NDHM image to 8-bit\n",
    "ndhm_img_8bit = cv2.normalize(ndhm_img, None, 0, 255, cv2.NORM_MINMAX, cv2.CV_8UC1)\n",
    "\n",
    "# Apply adaptive thresholding to separate the buildings\n",
    "ndhm_img_thresh = cv2.adaptiveThreshold(ndhm_img_8bit, 255, cv2.ADAPTIVE_THRESH_GAUSSIAN_C, cv2.THRESH_BINARY_INV, 51, 13.3)\n",
    "\n",
    "# Find the contours of the buildings\n",
    "contours, _ = cv2.findContours(ndhm_img_thresh.astype(np.uint8), cv2.RETR_EXTERNAL, cv2.CHAIN_APPROX_SIMPLE)\n",
    "\n",
    "# Create a binary mask for the buildings\n",
    "building_mask = np.zeros_like(ndhm_img_thresh, dtype=np.uint8)\n",
    "\n",
    "# # Set a minimum building size ***(doest work properly yet)\n",
    "min_size = 160\n",
    "\n",
    "# Compute the pixel size of a square meter ***(doest work properly yet)\n",
    "pixel_size = abs(profile['transform'][0])\n",
    "\n",
    "# Filter out contours with low squareness or small size (likely vegetation or noise)\n",
    "for contour in contours:\n",
    "    # Compute the squareness and size of the contour\n",
    "    rect = cv2.minAreaRect(contour)\n",
    "    w, h = rect[1]\n",
    "    if w < h:\n",
    "        w, h = h, w\n",
    "    squareness = w / h if h != 0 else 0\n",
    "    size = w * h * pixel_size ** 2\n",
    "\n",
    "    # Filter out contours with low squareness or small size (likely vegetation or noise)\n",
    "    if squareness >= 0.9 and size >= min_size:\n",
    "        cv2.drawContours(building_mask, [contour], -1, 255, -1)\n",
    "\n",
    "# Update the metadata of the output file to reflect a binary output\n",
    "profile.update(count=1, dtype=rasterio.uint8)\n",
    "\n",
    "# Write the new GeoTIFF file with the binary mask of the buildings\n",
    "with rasterio.open('buildings.tif', 'w', **profile) as dst:\n",
    "    dst.write(building_mask.astype(rasterio.uint8), 1)\n",
    "print('All of our steps are done.')"
   ]
  },
  {
   "cell_type": "code",
   "execution_count": null,
   "id": "b4866b6e-917a-459e-ab77-2e783896ac7f",
   "metadata": {},
   "outputs": [],
   "source": []
  },
  {
   "cell_type": "code",
   "execution_count": null,
   "id": "1b0682a2-7b6c-4fb0-83a7-8c9b8ea24c77",
   "metadata": {},
   "outputs": [],
   "source": []
  },
  {
   "cell_type": "code",
   "execution_count": null,
   "id": "ea0fdb6e-c5de-461f-bc3a-ab1b928febb9",
   "metadata": {},
   "outputs": [],
   "source": []
  },
  {
   "cell_type": "code",
   "execution_count": null,
   "id": "fa0e59df-25ea-4440-829d-0eba95625195",
   "metadata": {},
   "outputs": [],
   "source": []
  },
  {
   "cell_type": "code",
   "execution_count": 70,
   "id": "5359a3f6-f023-468f-b6d4-c7ce3d3d703b",
   "metadata": {},
   "outputs": [],
   "source": [
    "\n"
   ]
  },
  {
   "cell_type": "code",
   "execution_count": null,
   "id": "37fc93d4-ca8f-491a-a80d-a3507bbc66e4",
   "metadata": {},
   "outputs": [],
   "source": []
  },
  {
   "cell_type": "code",
   "execution_count": null,
   "id": "19aaae38-dcd9-4a8f-a2fd-46cdfa7ab864",
   "metadata": {},
   "outputs": [],
   "source": []
  },
  {
   "cell_type": "code",
   "execution_count": null,
   "id": "f182bb9f-2112-45cd-aae9-1fc39f5ef0ee",
   "metadata": {},
   "outputs": [],
   "source": []
  },
  {
   "cell_type": "code",
   "execution_count": 39,
   "id": "c7e1762e-4b78-4121-aac3-031c64251f83",
   "metadata": {},
   "outputs": [],
   "source": []
  },
  {
   "cell_type": "code",
   "execution_count": null,
   "id": "0427e824-be64-45c5-b51a-487d6eab45ca",
   "metadata": {},
   "outputs": [],
   "source": []
  },
  {
   "cell_type": "code",
   "execution_count": null,
   "id": "9a85c09d-fba6-4258-97b1-6a4fa6f18ba9",
   "metadata": {},
   "outputs": [],
   "source": []
  },
  {
   "cell_type": "code",
   "execution_count": null,
   "id": "fc908984-6678-4ac0-ba7a-cda14578025a",
   "metadata": {},
   "outputs": [],
   "source": []
  },
  {
   "cell_type": "code",
   "execution_count": null,
   "id": "a8cd03fc-1cce-4bae-b3bf-5c8fb642a43c",
   "metadata": {},
   "outputs": [],
   "source": []
  },
  {
   "cell_type": "code",
   "execution_count": null,
   "id": "9282c4c4-7ff3-41d3-be25-f38b2e2e6b1c",
   "metadata": {},
   "outputs": [],
   "source": []
  },
  {
   "cell_type": "code",
   "execution_count": null,
   "id": "0b74d64d-13fe-435a-857d-35b23c4dcd49",
   "metadata": {},
   "outputs": [],
   "source": []
  },
  {
   "cell_type": "code",
   "execution_count": null,
   "id": "ad30fe2b-6914-44c3-904d-d68b93c576c8",
   "metadata": {},
   "outputs": [],
   "source": []
  },
  {
   "cell_type": "code",
   "execution_count": 59,
   "id": "c6c781a4-9cc0-435e-abc1-252ff0bb50d6",
   "metadata": {},
   "outputs": [],
   "source": []
  },
  {
   "cell_type": "code",
   "execution_count": null,
   "id": "f86cca05-e7ec-49a1-9935-7ba20d3050a2",
   "metadata": {},
   "outputs": [],
   "source": []
  },
  {
   "cell_type": "code",
   "execution_count": null,
   "id": "c3e18b65-8d67-4775-9457-737f340f6112",
   "metadata": {},
   "outputs": [],
   "source": []
  },
  {
   "cell_type": "code",
   "execution_count": null,
   "id": "b1aee341-4d23-4ae2-ba9c-650511e00f42",
   "metadata": {},
   "outputs": [],
   "source": []
  },
  {
   "cell_type": "code",
   "execution_count": null,
   "id": "73162dd8-129b-4cfc-ba1a-957e8bee10dd",
   "metadata": {},
   "outputs": [],
   "source": []
  },
  {
   "cell_type": "code",
   "execution_count": null,
   "id": "50520c4f-ba7b-42a1-a90b-ba8fca9040ae",
   "metadata": {},
   "outputs": [],
   "source": []
  },
  {
   "cell_type": "code",
   "execution_count": null,
   "id": "7d692fd0-3ace-4aba-aca2-3dfdf3316adf",
   "metadata": {},
   "outputs": [],
   "source": []
  },
  {
   "cell_type": "code",
   "execution_count": null,
   "id": "e4bc0f24-8f54-4da6-91b8-df335afc876f",
   "metadata": {},
   "outputs": [],
   "source": []
  },
  {
   "cell_type": "code",
   "execution_count": null,
   "id": "76b7ce77-e568-40b3-85a9-43651a097e35",
   "metadata": {},
   "outputs": [],
   "source": []
  },
  {
   "cell_type": "code",
   "execution_count": null,
   "id": "8e481a46-e01c-496a-a621-a3c607b1d68a",
   "metadata": {},
   "outputs": [],
   "source": []
  }
 ],
 "metadata": {
  "kernelspec": {
   "display_name": "Python 3 (ipykernel)",
   "language": "python",
   "name": "python3"
  },
  "language_info": {
   "codemirror_mode": {
    "name": "ipython",
    "version": 3
   },
   "file_extension": ".py",
   "mimetype": "text/x-python",
   "name": "python",
   "nbconvert_exporter": "python",
   "pygments_lexer": "ipython3",
   "version": "3.8.16"
  }
 },
 "nbformat": 4,
 "nbformat_minor": 5
}
